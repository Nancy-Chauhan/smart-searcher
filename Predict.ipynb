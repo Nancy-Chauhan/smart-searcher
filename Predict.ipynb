{
 "cells": [
  {
   "cell_type": "code",
   "execution_count": 1,
   "metadata": {},
   "outputs": [],
   "source": [
    "import pandas as pd"
   ]
  },
  {
   "cell_type": "code",
   "execution_count": 3,
   "metadata": {},
   "outputs": [],
   "source": [
    "data = pd.read_csv('data/images.csv')"
   ]
  },
  {
   "cell_type": "code",
   "execution_count": 4,
   "metadata": {},
   "outputs": [
    {
     "data": {
      "text/html": [
       "<div>\n",
       "<style scoped>\n",
       "    .dataframe tbody tr th:only-of-type {\n",
       "        vertical-align: middle;\n",
       "    }\n",
       "\n",
       "    .dataframe tbody tr th {\n",
       "        vertical-align: top;\n",
       "    }\n",
       "\n",
       "    .dataframe thead th {\n",
       "        text-align: right;\n",
       "    }\n",
       "</style>\n",
       "<table border=\"1\" class=\"dataframe\">\n",
       "  <thead>\n",
       "    <tr style=\"text-align: right;\">\n",
       "      <th></th>\n",
       "      <th>id</th>\n",
       "      <th>gender</th>\n",
       "      <th>masterCategory</th>\n",
       "      <th>subCategory</th>\n",
       "      <th>articleType</th>\n",
       "      <th>baseColour</th>\n",
       "      <th>season</th>\n",
       "      <th>year</th>\n",
       "      <th>usage</th>\n",
       "      <th>productDisplayName</th>\n",
       "    </tr>\n",
       "  </thead>\n",
       "  <tbody>\n",
       "    <tr>\n",
       "      <th>0</th>\n",
       "      <td>15970</td>\n",
       "      <td>Men</td>\n",
       "      <td>Apparel</td>\n",
       "      <td>Topwear</td>\n",
       "      <td>Shirts</td>\n",
       "      <td>Navy Blue</td>\n",
       "      <td>Fall</td>\n",
       "      <td>2011.0</td>\n",
       "      <td>Casual</td>\n",
       "      <td>Turtle Check Men Navy Blue Shirt</td>\n",
       "    </tr>\n",
       "    <tr>\n",
       "      <th>1</th>\n",
       "      <td>39386</td>\n",
       "      <td>Men</td>\n",
       "      <td>Apparel</td>\n",
       "      <td>Bottomwear</td>\n",
       "      <td>Jeans</td>\n",
       "      <td>Blue</td>\n",
       "      <td>Summer</td>\n",
       "      <td>2012.0</td>\n",
       "      <td>Casual</td>\n",
       "      <td>Peter England Men Party Blue Jeans</td>\n",
       "    </tr>\n",
       "    <tr>\n",
       "      <th>2</th>\n",
       "      <td>59263</td>\n",
       "      <td>Women</td>\n",
       "      <td>Accessories</td>\n",
       "      <td>Watches</td>\n",
       "      <td>Watches</td>\n",
       "      <td>Silver</td>\n",
       "      <td>Winter</td>\n",
       "      <td>2016.0</td>\n",
       "      <td>Casual</td>\n",
       "      <td>Titan Women Silver Watch</td>\n",
       "    </tr>\n",
       "    <tr>\n",
       "      <th>3</th>\n",
       "      <td>21379</td>\n",
       "      <td>Men</td>\n",
       "      <td>Apparel</td>\n",
       "      <td>Bottomwear</td>\n",
       "      <td>Track Pants</td>\n",
       "      <td>Black</td>\n",
       "      <td>Fall</td>\n",
       "      <td>2011.0</td>\n",
       "      <td>Casual</td>\n",
       "      <td>Manchester United Men Solid Black Track Pants</td>\n",
       "    </tr>\n",
       "    <tr>\n",
       "      <th>4</th>\n",
       "      <td>53759</td>\n",
       "      <td>Men</td>\n",
       "      <td>Apparel</td>\n",
       "      <td>Topwear</td>\n",
       "      <td>Tshirts</td>\n",
       "      <td>Grey</td>\n",
       "      <td>Summer</td>\n",
       "      <td>2012.0</td>\n",
       "      <td>Casual</td>\n",
       "      <td>Puma Men Grey T-shirt</td>\n",
       "    </tr>\n",
       "  </tbody>\n",
       "</table>\n",
       "</div>"
      ],
      "text/plain": [
       "      id gender masterCategory subCategory  articleType baseColour  season  \\\n",
       "0  15970    Men        Apparel     Topwear       Shirts  Navy Blue    Fall   \n",
       "1  39386    Men        Apparel  Bottomwear        Jeans       Blue  Summer   \n",
       "2  59263  Women    Accessories     Watches      Watches     Silver  Winter   \n",
       "3  21379    Men        Apparel  Bottomwear  Track Pants      Black    Fall   \n",
       "4  53759    Men        Apparel     Topwear      Tshirts       Grey  Summer   \n",
       "\n",
       "     year   usage                             productDisplayName  \n",
       "0  2011.0  Casual               Turtle Check Men Navy Blue Shirt  \n",
       "1  2012.0  Casual             Peter England Men Party Blue Jeans  \n",
       "2  2016.0  Casual                       Titan Women Silver Watch  \n",
       "3  2011.0  Casual  Manchester United Men Solid Black Track Pants  \n",
       "4  2012.0  Casual                          Puma Men Grey T-shirt  "
      ]
     },
     "execution_count": 4,
     "metadata": {},
     "output_type": "execute_result"
    }
   ],
   "source": [
    "data.head()"
   ]
  },
  {
   "cell_type": "code",
   "execution_count": 8,
   "metadata": {},
   "outputs": [],
   "source": [
    "counts = data.articleType.value_counts()"
   ]
  },
  {
   "cell_type": "code",
   "execution_count": 34,
   "metadata": {},
   "outputs": [],
   "source": []
  },
  {
   "cell_type": "code",
   "execution_count": null,
   "metadata": {},
   "outputs": [],
   "source": []
  },
  {
   "cell_type": "code",
   "execution_count": 35,
   "metadata": {},
   "outputs": [
    {
     "data": {
      "text/html": [
       "<div>\n",
       "<style scoped>\n",
       "    .dataframe tbody tr th:only-of-type {\n",
       "        vertical-align: middle;\n",
       "    }\n",
       "\n",
       "    .dataframe tbody tr th {\n",
       "        vertical-align: top;\n",
       "    }\n",
       "\n",
       "    .dataframe thead th {\n",
       "        text-align: right;\n",
       "    }\n",
       "</style>\n",
       "<table border=\"1\" class=\"dataframe\">\n",
       "  <thead>\n",
       "    <tr style=\"text-align: right;\">\n",
       "      <th></th>\n",
       "      <th>id</th>\n",
       "      <th>gender</th>\n",
       "      <th>masterCategory</th>\n",
       "      <th>subCategory</th>\n",
       "      <th>articleType</th>\n",
       "      <th>baseColour</th>\n",
       "      <th>season</th>\n",
       "      <th>year</th>\n",
       "      <th>usage</th>\n",
       "      <th>productDisplayName</th>\n",
       "    </tr>\n",
       "  </thead>\n",
       "  <tbody>\n",
       "    <tr>\n",
       "      <th>0</th>\n",
       "      <td>15970</td>\n",
       "      <td>Men</td>\n",
       "      <td>Apparel</td>\n",
       "      <td>Topwear</td>\n",
       "      <td>Shirts</td>\n",
       "      <td>Navy Blue</td>\n",
       "      <td>Fall</td>\n",
       "      <td>2011.0</td>\n",
       "      <td>Casual</td>\n",
       "      <td>Turtle Check Men Navy Blue Shirt</td>\n",
       "    </tr>\n",
       "    <tr>\n",
       "      <th>1</th>\n",
       "      <td>39386</td>\n",
       "      <td>Men</td>\n",
       "      <td>Apparel</td>\n",
       "      <td>Bottomwear</td>\n",
       "      <td>Jeans</td>\n",
       "      <td>Blue</td>\n",
       "      <td>Summer</td>\n",
       "      <td>2012.0</td>\n",
       "      <td>Casual</td>\n",
       "      <td>Peter England Men Party Blue Jeans</td>\n",
       "    </tr>\n",
       "    <tr>\n",
       "      <th>2</th>\n",
       "      <td>59263</td>\n",
       "      <td>Women</td>\n",
       "      <td>Accessories</td>\n",
       "      <td>Watches</td>\n",
       "      <td>Watches</td>\n",
       "      <td>Silver</td>\n",
       "      <td>Winter</td>\n",
       "      <td>2016.0</td>\n",
       "      <td>Casual</td>\n",
       "      <td>Titan Women Silver Watch</td>\n",
       "    </tr>\n",
       "    <tr>\n",
       "      <th>3</th>\n",
       "      <td>21379</td>\n",
       "      <td>Men</td>\n",
       "      <td>Apparel</td>\n",
       "      <td>Bottomwear</td>\n",
       "      <td>Track Pants</td>\n",
       "      <td>Black</td>\n",
       "      <td>Fall</td>\n",
       "      <td>2011.0</td>\n",
       "      <td>Casual</td>\n",
       "      <td>Manchester United Men Solid Black Track Pants</td>\n",
       "    </tr>\n",
       "    <tr>\n",
       "      <th>4</th>\n",
       "      <td>53759</td>\n",
       "      <td>Men</td>\n",
       "      <td>Apparel</td>\n",
       "      <td>Topwear</td>\n",
       "      <td>Tshirts</td>\n",
       "      <td>Grey</td>\n",
       "      <td>Summer</td>\n",
       "      <td>2012.0</td>\n",
       "      <td>Casual</td>\n",
       "      <td>Puma Men Grey T-shirt</td>\n",
       "    </tr>\n",
       "  </tbody>\n",
       "</table>\n",
       "</div>"
      ],
      "text/plain": [
       "      id gender masterCategory subCategory  articleType baseColour  season  \\\n",
       "0  15970    Men        Apparel     Topwear       Shirts  Navy Blue    Fall   \n",
       "1  39386    Men        Apparel  Bottomwear        Jeans       Blue  Summer   \n",
       "2  59263  Women    Accessories     Watches      Watches     Silver  Winter   \n",
       "3  21379    Men        Apparel  Bottomwear  Track Pants      Black    Fall   \n",
       "4  53759    Men        Apparel     Topwear      Tshirts       Grey  Summer   \n",
       "\n",
       "     year   usage                             productDisplayName  \n",
       "0  2011.0  Casual               Turtle Check Men Navy Blue Shirt  \n",
       "1  2012.0  Casual             Peter England Men Party Blue Jeans  \n",
       "2  2016.0  Casual                       Titan Women Silver Watch  \n",
       "3  2011.0  Casual  Manchester United Men Solid Black Track Pants  \n",
       "4  2012.0  Casual                          Puma Men Grey T-shirt  "
      ]
     },
     "execution_count": 35,
     "metadata": {},
     "output_type": "execute_result"
    }
   ],
   "source": [
    "res.head()"
   ]
  },
  {
   "cell_type": "code",
   "execution_count": 36,
   "metadata": {},
   "outputs": [
    {
     "data": {
      "text/plain": [
       "42273"
      ]
     },
     "execution_count": 36,
     "metadata": {},
     "output_type": "execute_result"
    }
   ],
   "source": [
    "len(res)"
   ]
  },
  {
   "cell_type": "code",
   "execution_count": 14,
   "metadata": {},
   "outputs": [
    {
     "data": {
      "text/plain": [
       "Index(['Tshirts', 'Shirts', 'Casual Shoes', 'Watches', 'Sports Shoes',\n",
       "       'Kurtas', 'Tops', 'Handbags', 'Heels', 'Sunglasses',\n",
       "       ...\n",
       "       'Ties and Cufflinks', 'Key chain', 'Face Serum and Gel',\n",
       "       'Mens Grooming Kit', 'Suits', 'Cushion Covers', 'Hair Accessory',\n",
       "       'Body Wash and Scrub', 'Ipad', 'Shoe Laces'],\n",
       "      dtype='object', length=143)"
      ]
     },
     "execution_count": 14,
     "metadata": {},
     "output_type": "execute_result"
    }
   ],
   "source": [
    "counts.index"
   ]
  },
  {
   "cell_type": "code",
   "execution_count": 20,
   "metadata": {},
   "outputs": [
    {
     "data": {
      "text/plain": [
       "Index(['Tshirts', 'Shirts', 'Casual Shoes', 'Watches', 'Sports Shoes',\n",
       "       'Kurtas', 'Tops', 'Handbags', 'Heels', 'Sunglasses', 'Wallets',\n",
       "       'Flip Flops', 'Sandals', 'Briefs', 'Belts', 'Backpacks', 'Socks',\n",
       "       'Formal Shoes', 'Perfume and Body Mist', 'Jeans', 'Shorts', 'Trousers',\n",
       "       'Flats', 'Bra', 'Dresses', 'Sarees', 'Earrings', 'Deodorant',\n",
       "       'Nail Polish', 'Lipstick', 'Track Pants', 'Clutches', 'Sweatshirts',\n",
       "       'Caps', 'Sweaters', 'Ties', 'Jackets', 'Innerwear Vests', 'Kurtis',\n",
       "       'Tunics', 'Nightdress', 'Leggings', 'Pendant', 'Capris',\n",
       "       'Necklace and Chains', 'Lip Gloss', 'Night suits', 'Trunk', 'Skirts',\n",
       "       'Scarves', 'Ring', 'Dupatta', 'Accessory Gift Set', 'Cufflinks',\n",
       "       'Kajal and Eyeliner'],\n",
       "      dtype='object')"
      ]
     },
     "execution_count": 20,
     "metadata": {},
     "output_type": "execute_result"
    }
   ],
   "source": [
    "counts[counts > 100].index"
   ]
  },
  {
   "cell_type": "code",
   "execution_count": 23,
   "metadata": {},
   "outputs": [],
   "source": [
    "replace_map = {\n",
    "    'Tshirts': 'tshirt',\n",
    "    'Shirts': 'shirt',\n",
    "    'Casual Shoes': 'shoes',\n",
    "    'Watches': 'watch',\n",
    "    'Sports Shoes': 'shoe',\n",
    "    'Kurtas': 'shirt',\n",
    "    'Tops': 'top',\n",
    "    'Handbags': 'handbag',\n",
    "    'Heels': 'shoes',\n",
    "    'Sunglasses': 'sunglass',\n",
    "    'Wallets': 'wallet',\n",
    "    'Flip Flops': 'shoe',\n",
    "    'Sandals': 'sandal',\n",
    "    'Briefs': 'briefs',\n",
    "    'Belts': 'belt',\n",
    "    'Backpacks': 'backpack',\n",
    "    'Socks': 'socks',\n",
    "    'Formal Shoes': 'shoe',\n",
    "    'Perfume and Body Mist': 'perfume',\n",
    "    'Jeans': 'jean',\n",
    "    'Shorts': 'shorts',\n",
    "    'Trousers': 'trouser',\n",
    "    'Flats': 'shoe',\n",
    "    'Bra': 'bra',\n",
    "    'Dresses': 'dress',\n",
    "    'Sarees': 'saree',\n",
    "    'Earrings': 'earring',\n",
    "    'Deodorant': 'perfume',\n",
    "    'Nail Polish': 'nail polish',\n",
    "    'Lipstick': 'lipstick',\n",
    "    'Track Pants': 'pant',\n",
    "    'Clutches': 'purse',\n",
    "    'Sweatshirts': 'sweatshirt',\n",
    "    'Caps': 'cap',\n",
    "    'Sweaters': 'sweater',\n",
    "    'Ties': 'tie',\n",
    "    'Jackets': 'jacket',\n",
    "    'Innerwear Vests': 'vest',\n",
    "    'Kurtis': 'shirt',\n",
    "    'Tunics': 'tunic',\n",
    "    'Nightdress': 'nightdress',\n",
    "    'Leggings': 'legging',\n",
    "    'Pendant': 'pendant',\n",
    "    'Capris': 'capri',\n",
    "    'Necklace and Chains': 'necklace',\n",
    "    'Lip Gloss': 'lipstick',\n",
    "    'Night suits': 'dress',\n",
    "    'Trunk': 'trunks',\n",
    "    'Skirts': 'skirt',\n",
    "    'Scarves': 'scarf',\n",
    "    'Ring': 'ring',\n",
    "    'Dupatta': 'scarf',\n",
    "    'Accessory Gift Set': 'gift',\n",
    "    'Cufflinks': 'cufflink',\n",
    "    'Kajal and Eyeliner': 'eyeliner'\n",
    "}"
   ]
  },
  {
   "cell_type": "code",
   "execution_count": 24,
   "metadata": {},
   "outputs": [],
   "source": [
    "categories = set(replace_map.values())"
   ]
  },
  {
   "cell_type": "code",
   "execution_count": 30,
   "metadata": {},
   "outputs": [],
   "source": [
    "def find_category(candidates):\n",
    "    category_1, score_1 = match_score(candidates[0])\n",
    "    category_2, score_2 = match_score(candidates[1])\n",
    "    \n",
    "    return category_1 if score_1 < score_2 else category_2"
   ]
  },
  {
   "cell_type": "code",
   "execution_count": 32,
   "metadata": {},
   "outputs": [],
   "source": [
    "def match_score(synonym_set):\n",
    "    for i, words in enumerate(synonym_set):\n",
    "        for word in words:\n",
    "            if word in categories:\n",
    "                return word, i\n",
    "            \n",
    "    return '', 99999"
   ]
  },
  {
   "cell_type": "code",
   "execution_count": 33,
   "metadata": {},
   "outputs": [
    {
     "data": {
      "text/plain": [
       "'watch'"
      ]
     },
     "execution_count": 33,
     "metadata": {},
     "output_type": "execute_result"
    }
   ],
   "source": [
    "find_category([\n",
    "    [\n",
    "        [\"buckle\"], [\"fastener\", \"fastening\", \"holdfast\", \"fixing\"], [\"restraint\", \"constraint\"], [\"device\"], \n",
    "        [\"instrumentality\", \"instrumentation\"], [\"artifact\", \"artefact\"], [\"whole\", \"unit\"],[\"object\", \"physical object\"],\n",
    "        [\"physical entity\"], [\"entity\"]\n",
    "    ],\n",
    "    [\n",
    "        [\n",
    "            \"digital watch\"\n",
    "        ],\n",
    "        [\n",
    "            \"watch\",\n",
    "            \"ticker\"\n",
    "        ],\n",
    "        [\n",
    "            \"timepiece\",\n",
    "            \"timekeeper\",\n",
    "            \"horologe\"\n",
    "        ],\n",
    "        [\n",
    "            \"measuring instrument\",\n",
    "            \"measuring system\",\n",
    "            \"measuring device\"\n",
    "        ],\n",
    "        [\n",
    "            \"instrument\"\n",
    "        ],\n",
    "        [\n",
    "            \"device\"\n",
    "        ],\n",
    "        [\n",
    "            \"instrumentality\",\n",
    "            \"instrumentation\"\n",
    "        ],\n",
    "        [\n",
    "            \"artifact\",\n",
    "            \"artefact\"\n",
    "        ],\n",
    "        [\n",
    "            \"whole\",\n",
    "            \"unit\"\n",
    "        ],\n",
    "        [\n",
    "            \"object\",\n",
    "            \"physical object\"\n",
    "        ],\n",
    "        [\n",
    "            \"physical entity\"\n",
    "        ],\n",
    "        [\n",
    "            \"entity\"\n",
    "        ]\n",
    "    ],\n",
    "])"
   ]
  },
  {
   "cell_type": "code",
   "execution_count": null,
   "metadata": {},
   "outputs": [],
   "source": []
  }
 ],
 "metadata": {
  "kernelspec": {
   "display_name": "Python 3",
   "language": "python",
   "name": "python3"
  },
  "language_info": {
   "codemirror_mode": {
    "name": "ipython",
    "version": 3
   },
   "file_extension": ".py",
   "mimetype": "text/x-python",
   "name": "python",
   "nbconvert_exporter": "python",
   "pygments_lexer": "ipython3",
   "version": "3.7.4"
  }
 },
 "nbformat": 4,
 "nbformat_minor": 2
}